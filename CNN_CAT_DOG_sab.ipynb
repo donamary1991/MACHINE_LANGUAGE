{
  "nbformat": 4,
  "nbformat_minor": 0,
  "metadata": {
    "colab": {
      "provenance": [],
      "gpuType": "T4"
    },
    "kernelspec": {
      "name": "python3",
      "display_name": "Python 3"
    },
    "language_info": {
      "name": "python"
    },
    "accelerator": "GPU"
  },
  "cells": [
    {
      "cell_type": "code",
      "execution_count": 1,
      "metadata": {
        "colab": {
          "base_uri": "https://localhost:8080/"
        },
        "id": "aSNBfXmvkx2v",
        "outputId": "d4e81441-58df-44b2-efa0-b273505272b7"
      },
      "outputs": [
        {
          "output_type": "stream",
          "name": "stdout",
          "text": [
            "Drive already mounted at /content/drive; to attempt to forcibly remount, call drive.mount(\"/content/drive\", force_remount=True).\n"
          ]
        }
      ],
      "source": [
        "# Drive Mount\n",
        "from google.colab import drive\n",
        "drive.mount('/content/drive')"
      ]
    },
    {
      "cell_type": "code",
      "source": [
        "import pandas as pd\n",
        "from sklearn.svm import SVC\n",
        "import numpy as np\n",
        "import matplotlib.pyplot as plt\n",
        "import os\n",
        "# to read the path of file and directory and directory\n",
        "from skimage.io import imread\n",
        "# used for reading image\n",
        "from sklearn.model_selection import train_test_split\n",
        "from skimage.transform import resize\n",
        "# to resize the images so that all images are in equal size"
      ],
      "metadata": {
        "id": "jw82PGtzoJL5"
      },
      "execution_count": 3,
      "outputs": []
    },
    {
      "cell_type": "code",
      "source": [
        "os.listdir('/content/drive/MyDrive/Deep_Learning')\n"
      ],
      "metadata": {
        "colab": {
          "base_uri": "https://localhost:8080/"
        },
        "id": "PxNsHZZxp4wx",
        "outputId": "d2511da3-134e-4e74-c066-a05ed92a003b"
      },
      "execution_count": null,
      "outputs": [
        {
          "output_type": "execute_result",
          "data": {
            "text/plain": [
              "['dataset.zip']"
            ]
          },
          "metadata": {},
          "execution_count": 4
        }
      ]
    },
    {
      "cell_type": "code",
      "source": [
        "!pwd"
      ],
      "metadata": {
        "colab": {
          "base_uri": "https://localhost:8080/"
        },
        "id": "1el4ZYohqblo",
        "outputId": "1706543d-bbbb-49a7-9c1a-f06b0e7c3908"
      },
      "execution_count": null,
      "outputs": [
        {
          "output_type": "stream",
          "name": "stdout",
          "text": [
            "/content\n"
          ]
        }
      ]
    },
    {
      "cell_type": "code",
      "source": [
        "os.listdir('/content/drive/MyDrive/Deep_Learning/cat_dog_dataset')"
      ],
      "metadata": {
        "colab": {
          "base_uri": "https://localhost:8080/"
        },
        "id": "fDYvIr3VrGtl",
        "outputId": "75b51d71-5a57-43fc-e831-a4a7f277cb9a"
      },
      "execution_count": 4,
      "outputs": [
        {
          "output_type": "execute_result",
          "data": {
            "text/plain": [
              "['dog', 'cat']"
            ]
          },
          "metadata": {},
          "execution_count": 4
        }
      ]
    },
    {
      "cell_type": "code",
      "source": [
        "os.listdir('/content/drive/MyDrive/Deep_Learning/cat_dog_dataset/cat')"
      ],
      "metadata": {
        "colab": {
          "base_uri": "https://localhost:8080/"
        },
        "id": "ktZzBQPYrQwB",
        "outputId": "dda0eaf9-c751-4748-9f5d-75c71c88f2ac"
      },
      "execution_count": 5,
      "outputs": [
        {
          "output_type": "execute_result",
          "data": {
            "text/plain": [
              "['cat.83.jpg',\n",
              " 'cat.30.jpg',\n",
              " 'cat.8.jpg',\n",
              " 'cat.29.jpg',\n",
              " 'cat.60.jpg',\n",
              " 'cat.34.jpg',\n",
              " 'cat.74.jpg',\n",
              " 'cat.67.jpg',\n",
              " 'cat.56.jpg',\n",
              " 'cat.9.jpg',\n",
              " 'cat.55.jpg',\n",
              " 'cat.28.jpg',\n",
              " 'cat.57.jpg',\n",
              " 'cat.40.jpg',\n",
              " 'cat.27.jpg',\n",
              " 'cat.19.jpg',\n",
              " 'cat.12.jpg',\n",
              " 'cat.47.jpg',\n",
              " 'cat.4.jpg',\n",
              " 'cat.45.jpg',\n",
              " 'cat.26.jpg',\n",
              " 'cat.81.jpg',\n",
              " 'cat.43.jpg',\n",
              " 'cat.80.jpg',\n",
              " 'cat.77.jpg',\n",
              " 'cat.52.jpg',\n",
              " 'cat.48.jpg',\n",
              " 'cat.31.jpg',\n",
              " 'cat.21.jpg',\n",
              " 'cat.68.jpg',\n",
              " 'cat.79.jpg',\n",
              " 'cat.59.jpg',\n",
              " 'cat.70.jpg',\n",
              " 'cat.3.jpg',\n",
              " 'cat.85.jpg',\n",
              " 'cat.63.jpg',\n",
              " 'cat.37.jpg',\n",
              " 'cat.71.jpg',\n",
              " 'cat.89.jpg',\n",
              " 'cat.11.jpg',\n",
              " 'cat.82.jpg',\n",
              " 'cat.38.jpg',\n",
              " 'cat.84.jpg',\n",
              " 'cat.15.jpg',\n",
              " 'cat.20.jpg',\n",
              " 'cat.7.jpg',\n",
              " 'cat.75.jpg',\n",
              " 'cat.46.jpg',\n",
              " 'cat.22.jpg',\n",
              " 'cat.78.jpg',\n",
              " 'cat.90.jpg',\n",
              " 'cat.62.jpg',\n",
              " 'cat.32.jpg',\n",
              " 'cat.51.jpg',\n",
              " 'cat.36.jpg',\n",
              " 'cat.72.jpg',\n",
              " 'cat.87.jpg',\n",
              " 'cat.41.jpg',\n",
              " 'cat.10.jpg',\n",
              " 'cat.88.jpg',\n",
              " 'cat.33.jpg',\n",
              " 'cat.42.jpg',\n",
              " 'cat.53.jpg',\n",
              " 'cat.17.jpg',\n",
              " 'cat.1.jpg',\n",
              " 'cat.54.jpg',\n",
              " 'cat.58.jpg',\n",
              " 'cat.65.jpg',\n",
              " 'cat.35.jpg',\n",
              " 'cat.49.jpg',\n",
              " 'cat.64.jpg',\n",
              " 'cat.23.jpg',\n",
              " 'cat.14.jpg',\n",
              " 'cat.50.jpg',\n",
              " 'cat.39.jpg',\n",
              " 'cat.2.jpg',\n",
              " 'cat.13.jpg',\n",
              " 'cat.6.jpg',\n",
              " 'cat.66.jpg',\n",
              " 'cat.61.jpg',\n",
              " 'cat.5.jpg',\n",
              " 'cat.76.jpg',\n",
              " 'cat.25.jpg',\n",
              " 'cat.44.jpg',\n",
              " 'cat.18.jpg',\n",
              " 'cat.69.jpg',\n",
              " 'cat.16.jpg',\n",
              " 'cat.86.jpg',\n",
              " 'cat.73.jpg',\n",
              " 'cat.24.jpg']"
            ]
          },
          "metadata": {},
          "execution_count": 5
        }
      ]
    },
    {
      "cell_type": "code",
      "source": [
        "os.listdir('/content/drive/MyDrive/Deep_Learning/cat_dog_dataset/dog')\n",
        "# o/p is in list"
      ],
      "metadata": {
        "colab": {
          "base_uri": "https://localhost:8080/"
        },
        "id": "Nr3cVONOriGq",
        "outputId": "2e9bb3d2-1dd7-4301-ee95-eb52606edafd"
      },
      "execution_count": 6,
      "outputs": [
        {
          "output_type": "execute_result",
          "data": {
            "text/plain": [
              "['dog.50.jpg',\n",
              " 'dog.37.jpg',\n",
              " 'dog.41.jpg',\n",
              " 'dog.35.jpg',\n",
              " 'dog.16.jpg',\n",
              " 'dog.46.jpg',\n",
              " 'dog.23.jpg',\n",
              " 'dog.48.jpg',\n",
              " 'dog.51.jpg',\n",
              " 'dog.12.jpg',\n",
              " 'dog.44.jpg',\n",
              " 'dog.64.jpg',\n",
              " 'dog.31.jpg',\n",
              " 'dog.13.jpg',\n",
              " 'dog.59.jpg',\n",
              " 'dog.9.jpg',\n",
              " 'dog.43.jpg',\n",
              " 'dog.20.jpg',\n",
              " 'dog.57.jpg',\n",
              " 'dog.71.jpg',\n",
              " 'dog.67.jpg',\n",
              " 'dog.66.jpg',\n",
              " 'dog.36.jpg',\n",
              " 'dog.28.jpg',\n",
              " 'dog.8.jpg',\n",
              " 'dog.19.jpg',\n",
              " 'dog.63.jpg',\n",
              " 'dog.29.jpg',\n",
              " 'dog.30.jpg',\n",
              " 'dog.11.jpg',\n",
              " 'dog.7.jpg',\n",
              " 'dog.62.jpg',\n",
              " 'dog.53.jpg',\n",
              " 'dog.45.jpg',\n",
              " 'dog.69.jpg',\n",
              " 'dog.72.jpg',\n",
              " 'dog.60.jpg',\n",
              " 'dog.65.jpg',\n",
              " 'dog.47.jpg',\n",
              " 'dog.61.jpg',\n",
              " 'dog.38.jpg',\n",
              " 'dog.68.jpg',\n",
              " 'dog.56.jpg',\n",
              " 'dog.34.jpg',\n",
              " 'dog.6.jpg',\n",
              " 'dog.24.jpg',\n",
              " 'dog.21.jpg',\n",
              " 'dog.15.jpg',\n",
              " 'dog.54.jpg',\n",
              " 'dog.4.jpg',\n",
              " 'dog.1.jpg',\n",
              " 'dog.58.jpg',\n",
              " 'dog.42.jpg',\n",
              " 'dog.70.jpg',\n",
              " 'dog.22.jpg',\n",
              " 'dog.39.jpg',\n",
              " 'dog.3.jpg',\n",
              " 'dog.14.jpg',\n",
              " 'dog.26.jpg',\n",
              " 'dog.33.jpg',\n",
              " 'dog.52.jpg',\n",
              " 'dog.17.jpg',\n",
              " 'dog.25.jpg',\n",
              " 'dog.32.jpg',\n",
              " 'dog.2.jpg',\n",
              " 'dog.40.jpg',\n",
              " 'dog.49.jpg',\n",
              " 'dog.27.jpg',\n",
              " 'dog.18.jpg',\n",
              " 'dog.10.jpg',\n",
              " 'dog.55.jpg',\n",
              " 'dog.5.jpg']"
            ]
          },
          "metadata": {},
          "execution_count": 6
        }
      ]
    },
    {
      "cell_type": "code",
      "source": [
        "# len of images\n",
        "len(os.listdir('/content/drive/MyDrive/Deep_Learning/cat_dog_dataset/dog'))"
      ],
      "metadata": {
        "colab": {
          "base_uri": "https://localhost:8080/"
        },
        "id": "LXoYqiNCr4pm",
        "outputId": "d5ad11f3-eedc-48f6-b30e-fcd95cabcedf"
      },
      "execution_count": 7,
      "outputs": [
        {
          "output_type": "execute_result",
          "data": {
            "text/plain": [
              "72"
            ]
          },
          "metadata": {},
          "execution_count": 7
        }
      ]
    },
    {
      "cell_type": "code",
      "source": [
        "len(os.listdir('/content/drive/MyDrive/Deep_Learning/cat_dog_dataset/cat'))"
      ],
      "metadata": {
        "colab": {
          "base_uri": "https://localhost:8080/"
        },
        "id": "PNO6-KQ3sLQN",
        "outputId": "2df9cb74-f9c9-44ce-fb6d-84d0c50a811a"
      },
      "execution_count": 8,
      "outputs": [
        {
          "output_type": "execute_result",
          "data": {
            "text/plain": [
              "90"
            ]
          },
          "metadata": {},
          "execution_count": 8
        }
      ]
    },
    {
      "cell_type": "code",
      "source": [
        "# catpath=os.path.join('/content/content/cat_dog_dataset','cat')\n",
        "# joining paths to define the cats path\n",
        "for i in os.listdir('/content/drive/MyDrive/Deep_Learning/cat_dog_dataset/cat'):\n",
        "  print(i)"
      ],
      "metadata": {
        "colab": {
          "base_uri": "https://localhost:8080/"
        },
        "id": "35H7sDu7snzx",
        "outputId": "2e0a17f1-4f46-4a65-fc9f-e7f1fc4ce6a9"
      },
      "execution_count": 9,
      "outputs": [
        {
          "output_type": "stream",
          "name": "stdout",
          "text": [
            "cat.83.jpg\n",
            "cat.30.jpg\n",
            "cat.8.jpg\n",
            "cat.29.jpg\n",
            "cat.60.jpg\n",
            "cat.34.jpg\n",
            "cat.74.jpg\n",
            "cat.67.jpg\n",
            "cat.56.jpg\n",
            "cat.9.jpg\n",
            "cat.55.jpg\n",
            "cat.28.jpg\n",
            "cat.57.jpg\n",
            "cat.40.jpg\n",
            "cat.27.jpg\n",
            "cat.19.jpg\n",
            "cat.12.jpg\n",
            "cat.47.jpg\n",
            "cat.4.jpg\n",
            "cat.45.jpg\n",
            "cat.26.jpg\n",
            "cat.81.jpg\n",
            "cat.43.jpg\n",
            "cat.80.jpg\n",
            "cat.77.jpg\n",
            "cat.52.jpg\n",
            "cat.48.jpg\n",
            "cat.31.jpg\n",
            "cat.21.jpg\n",
            "cat.68.jpg\n",
            "cat.79.jpg\n",
            "cat.59.jpg\n",
            "cat.70.jpg\n",
            "cat.3.jpg\n",
            "cat.85.jpg\n",
            "cat.63.jpg\n",
            "cat.37.jpg\n",
            "cat.71.jpg\n",
            "cat.89.jpg\n",
            "cat.11.jpg\n",
            "cat.82.jpg\n",
            "cat.38.jpg\n",
            "cat.84.jpg\n",
            "cat.15.jpg\n",
            "cat.20.jpg\n",
            "cat.7.jpg\n",
            "cat.75.jpg\n",
            "cat.46.jpg\n",
            "cat.22.jpg\n",
            "cat.78.jpg\n",
            "cat.90.jpg\n",
            "cat.62.jpg\n",
            "cat.32.jpg\n",
            "cat.51.jpg\n",
            "cat.36.jpg\n",
            "cat.72.jpg\n",
            "cat.87.jpg\n",
            "cat.41.jpg\n",
            "cat.10.jpg\n",
            "cat.88.jpg\n",
            "cat.33.jpg\n",
            "cat.42.jpg\n",
            "cat.53.jpg\n",
            "cat.17.jpg\n",
            "cat.1.jpg\n",
            "cat.54.jpg\n",
            "cat.58.jpg\n",
            "cat.65.jpg\n",
            "cat.35.jpg\n",
            "cat.49.jpg\n",
            "cat.64.jpg\n",
            "cat.23.jpg\n",
            "cat.14.jpg\n",
            "cat.50.jpg\n",
            "cat.39.jpg\n",
            "cat.2.jpg\n",
            "cat.13.jpg\n",
            "cat.6.jpg\n",
            "cat.66.jpg\n",
            "cat.61.jpg\n",
            "cat.5.jpg\n",
            "cat.76.jpg\n",
            "cat.25.jpg\n",
            "cat.44.jpg\n",
            "cat.18.jpg\n",
            "cat.69.jpg\n",
            "cat.16.jpg\n",
            "cat.86.jpg\n",
            "cat.73.jpg\n",
            "cat.24.jpg\n"
          ]
        }
      ]
    },
    {
      "cell_type": "code",
      "source": [
        "flat_data_arr=[]\n",
        "# i/p samples\n",
        "target_arr=[]\n",
        "# to collect output samples\n",
        "categories=['cat','dog']\n",
        "datadir='/content/drive/MyDrive/Deep_Learning/cat_dog_dataset'\n"
      ],
      "metadata": {
        "id": "rNHgmOsKzwZq"
      },
      "execution_count": 11,
      "outputs": []
    },
    {
      "cell_type": "code",
      "source": [
        "for i in categories:\n",
        "    print(\"Loading category..........\")\n",
        "    path = os.path.join(datadir, i)\n",
        "    for j in os.listdir(path):\n",
        "        # Check if 'j' is a file before trying to read it\n",
        "        if os.path.isfile(os.path.join(path, j)):\n",
        "            img_arr = imread(os.path.join(path, j))\n",
        "            img_resize = resize(img_arr, (150, 150, 3))\n",
        "            flat_data_arr.append(img_resize.flatten())\n",
        "            target_arr.append(categories.index(i))\n",
        "    print(\"Loaded completely\", i)"
      ],
      "metadata": {
        "colab": {
          "base_uri": "https://localhost:8080/"
        },
        "id": "-v0LsZsA1DFT",
        "outputId": "495044ed-7fe7-4b23-92c1-cc3102bc6303"
      },
      "execution_count": 12,
      "outputs": [
        {
          "output_type": "stream",
          "name": "stdout",
          "text": [
            "Loading category..........\n",
            "Loaded completely cat\n",
            "Loading category..........\n",
            "Loaded completely dog\n"
          ]
        }
      ]
    },
    {
      "cell_type": "code",
      "source": [
        "flat_data=np.array(flat_data_arr)\n",
        "target_data=np.array(target_arr)"
      ],
      "metadata": {
        "id": "nrJ2hM_E8Jb0"
      },
      "execution_count": 13,
      "outputs": []
    },
    {
      "cell_type": "code",
      "source": [
        "df=pd.DataFrame(flat_data_arr)\n",
        "df.shape"
      ],
      "metadata": {
        "id": "P17j6Oz98Zik",
        "colab": {
          "base_uri": "https://localhost:8080/"
        },
        "outputId": "8af03ad7-4766-4352-9fef-d870adb85884"
      },
      "execution_count": 14,
      "outputs": [
        {
          "output_type": "execute_result",
          "data": {
            "text/plain": [
              "(162, 67500)"
            ]
          },
          "metadata": {},
          "execution_count": 14
        }
      ]
    },
    {
      "cell_type": "code",
      "source": [
        "df['Target']=target_data\n",
        "df.shape"
      ],
      "metadata": {
        "id": "-jlkjkFc_X7R",
        "colab": {
          "base_uri": "https://localhost:8080/"
        },
        "outputId": "3546b0a0-9897-472f-ba72-dfeec402b309"
      },
      "execution_count": 15,
      "outputs": [
        {
          "output_type": "execute_result",
          "data": {
            "text/plain": [
              "(162, 67501)"
            ]
          },
          "metadata": {},
          "execution_count": 15
        }
      ]
    },
    {
      "cell_type": "code",
      "source": [
        "x=df.iloc[:,:-1]\n",
        "y=df.iloc[:,-1]\n",
        "x_train,x_test,y_train,y_test=train_test_split(x,y,test_size=0.2,random_state=42)\n"
      ],
      "metadata": {
        "id": "I8ZnnipRHqut"
      },
      "execution_count": 16,
      "outputs": []
    },
    {
      "cell_type": "code",
      "source": [
        "from sklearn.svm import SVC\n",
        "model=SVC()\n",
        "model.fit(x_train,y_train)\n",
        "y_predict=model.predict(x_test)\n",
        "y_predict"
      ],
      "metadata": {
        "colab": {
          "base_uri": "https://localhost:8080/"
        },
        "id": "Kj4mhTxPIHOQ",
        "outputId": "4737717e-9dc8-4bcb-b6f1-7b12cb0c57ce"
      },
      "execution_count": 18,
      "outputs": [
        {
          "output_type": "execute_result",
          "data": {
            "text/plain": [
              "array([0, 0, 0, 0, 0, 0, 0, 0, 1, 1, 0, 1, 0, 1, 0, 1, 0, 0, 0, 0, 1, 0,\n",
              "       0, 0, 1, 0, 1, 0, 1, 0, 0, 0, 0])"
            ]
          },
          "metadata": {},
          "execution_count": 18
        }
      ]
    },
    {
      "cell_type": "code",
      "source": [
        "from sklearn.metrics import accuracy_score,confusion_matrix\n",
        "accuracy_score(y_predict,y_test)\n"
      ],
      "metadata": {
        "colab": {
          "base_uri": "https://localhost:8080/"
        },
        "id": "ONPYCZdTIy_U",
        "outputId": "ff7927ed-93ad-407c-d50f-a9c16406f83d"
      },
      "execution_count": 19,
      "outputs": [
        {
          "output_type": "execute_result",
          "data": {
            "text/plain": [
              "0.5151515151515151"
            ]
          },
          "metadata": {},
          "execution_count": 19
        }
      ]
    },
    {
      "cell_type": "code",
      "source": [
        "df"
      ],
      "metadata": {
        "colab": {
          "base_uri": "https://localhost:8080/",
          "height": 444
        },
        "id": "E6nIVLRGJy6e",
        "outputId": "31577af7-e41b-40d5-a3d1-a5792c26b209"
      },
      "execution_count": 20,
      "outputs": [
        {
          "output_type": "execute_result",
          "data": {
            "text/plain": [
              "            0         1         2         3         4         5         6  \\\n",
              "0    0.210007  0.175332  0.153479  0.272972  0.204681  0.112182  0.296660   \n",
              "1    0.266514  0.270436  0.278279  0.281895  0.285817  0.293660  0.320151   \n",
              "2    0.154480  0.091735  0.103500  0.169038  0.106293  0.117328  0.167667   \n",
              "3    0.286275  0.301961  0.305882  0.286220  0.301906  0.305827  0.281501   \n",
              "4    0.114136  0.094528  0.082763  0.124316  0.104708  0.092944  0.137856   \n",
              "..        ...       ...       ...       ...       ...       ...       ...   \n",
              "157  0.309764  0.352798  0.360641  0.102719  0.142712  0.150583  0.063985   \n",
              "158  0.612096  0.506214  0.470920  0.568027  0.467242  0.437046  0.544847   \n",
              "159  0.562609  0.466070  0.253184  0.531096  0.417403  0.202458  0.519534   \n",
              "160  0.530957  0.512927  0.380928  0.472999  0.465529  0.334881  0.398747   \n",
              "161  0.458653  0.507357  0.442993  0.767779  0.813413  0.764808  0.833987   \n",
              "\n",
              "            7         8         9  ...     67491     67492     67493  \\\n",
              "0    0.213734  0.147602  0.264994  ...  0.921297  0.938155  0.992966   \n",
              "1    0.324072  0.331915  0.285575  ...  0.700854  0.737246  0.795792   \n",
              "2    0.104989  0.107658  0.153240  ...  0.386023  0.368375  0.356778   \n",
              "3    0.297187  0.301109  0.278426  ...  0.870170  0.837198  0.859041   \n",
              "4    0.118248  0.106484  0.156410  ...  0.681843  0.646549  0.658314   \n",
              "..        ...       ...       ...  ...       ...       ...       ...   \n",
              "157  0.097519  0.108052  0.073972  ...  0.312605  0.183134  0.051387   \n",
              "158  0.447135  0.420694  0.409511  ...  0.395262  0.348204  0.348204   \n",
              "159  0.393667  0.170831  0.488835  ...  0.389573  0.366044  0.318985   \n",
              "160  0.399377  0.304621  0.251644  ...  0.486232  0.565644  0.237841   \n",
              "161  0.875909  0.851280  0.602511  ...  0.406362  0.425970  0.269107   \n",
              "\n",
              "        67494     67495     67496     67497     67498     67499  Target  \n",
              "0    0.834832  0.849279  0.960463  0.770696  0.780097  0.923214       0  \n",
              "1    0.686285  0.733270  0.788196  0.676392  0.726043  0.779649       0  \n",
              "2    0.370647  0.342864  0.333848  0.356371  0.347214  0.332845       0  \n",
              "3    0.854953  0.819037  0.837135  0.837941  0.792424  0.803063       0  \n",
              "4    0.587697  0.552403  0.564167  0.468458  0.433163  0.444928       0  \n",
              "..        ...       ...       ...       ...       ...       ...     ...  \n",
              "157  0.296112  0.174136  0.061359  0.305794  0.184225  0.071002       1  \n",
              "158  0.372594  0.325535  0.325535  0.386530  0.339471  0.339471       1  \n",
              "159  0.392066  0.368537  0.321478  0.393571  0.370042  0.322983       1  \n",
              "160  0.337569  0.418725  0.168118  0.362746  0.453919  0.210229       1  \n",
              "161  0.360144  0.379780  0.221999  0.454469  0.476446  0.308656       1  \n",
              "\n",
              "[162 rows x 67501 columns]"
            ],
            "text/html": [
              "\n",
              "  <div id=\"df-9f512e3c-63ad-4bd8-ae7f-f4d14072b8c1\" class=\"colab-df-container\">\n",
              "    <div>\n",
              "<style scoped>\n",
              "    .dataframe tbody tr th:only-of-type {\n",
              "        vertical-align: middle;\n",
              "    }\n",
              "\n",
              "    .dataframe tbody tr th {\n",
              "        vertical-align: top;\n",
              "    }\n",
              "\n",
              "    .dataframe thead th {\n",
              "        text-align: right;\n",
              "    }\n",
              "</style>\n",
              "<table border=\"1\" class=\"dataframe\">\n",
              "  <thead>\n",
              "    <tr style=\"text-align: right;\">\n",
              "      <th></th>\n",
              "      <th>0</th>\n",
              "      <th>1</th>\n",
              "      <th>2</th>\n",
              "      <th>3</th>\n",
              "      <th>4</th>\n",
              "      <th>5</th>\n",
              "      <th>6</th>\n",
              "      <th>7</th>\n",
              "      <th>8</th>\n",
              "      <th>9</th>\n",
              "      <th>...</th>\n",
              "      <th>67491</th>\n",
              "      <th>67492</th>\n",
              "      <th>67493</th>\n",
              "      <th>67494</th>\n",
              "      <th>67495</th>\n",
              "      <th>67496</th>\n",
              "      <th>67497</th>\n",
              "      <th>67498</th>\n",
              "      <th>67499</th>\n",
              "      <th>Target</th>\n",
              "    </tr>\n",
              "  </thead>\n",
              "  <tbody>\n",
              "    <tr>\n",
              "      <th>0</th>\n",
              "      <td>0.210007</td>\n",
              "      <td>0.175332</td>\n",
              "      <td>0.153479</td>\n",
              "      <td>0.272972</td>\n",
              "      <td>0.204681</td>\n",
              "      <td>0.112182</td>\n",
              "      <td>0.296660</td>\n",
              "      <td>0.213734</td>\n",
              "      <td>0.147602</td>\n",
              "      <td>0.264994</td>\n",
              "      <td>...</td>\n",
              "      <td>0.921297</td>\n",
              "      <td>0.938155</td>\n",
              "      <td>0.992966</td>\n",
              "      <td>0.834832</td>\n",
              "      <td>0.849279</td>\n",
              "      <td>0.960463</td>\n",
              "      <td>0.770696</td>\n",
              "      <td>0.780097</td>\n",
              "      <td>0.923214</td>\n",
              "      <td>0</td>\n",
              "    </tr>\n",
              "    <tr>\n",
              "      <th>1</th>\n",
              "      <td>0.266514</td>\n",
              "      <td>0.270436</td>\n",
              "      <td>0.278279</td>\n",
              "      <td>0.281895</td>\n",
              "      <td>0.285817</td>\n",
              "      <td>0.293660</td>\n",
              "      <td>0.320151</td>\n",
              "      <td>0.324072</td>\n",
              "      <td>0.331915</td>\n",
              "      <td>0.285575</td>\n",
              "      <td>...</td>\n",
              "      <td>0.700854</td>\n",
              "      <td>0.737246</td>\n",
              "      <td>0.795792</td>\n",
              "      <td>0.686285</td>\n",
              "      <td>0.733270</td>\n",
              "      <td>0.788196</td>\n",
              "      <td>0.676392</td>\n",
              "      <td>0.726043</td>\n",
              "      <td>0.779649</td>\n",
              "      <td>0</td>\n",
              "    </tr>\n",
              "    <tr>\n",
              "      <th>2</th>\n",
              "      <td>0.154480</td>\n",
              "      <td>0.091735</td>\n",
              "      <td>0.103500</td>\n",
              "      <td>0.169038</td>\n",
              "      <td>0.106293</td>\n",
              "      <td>0.117328</td>\n",
              "      <td>0.167667</td>\n",
              "      <td>0.104989</td>\n",
              "      <td>0.107658</td>\n",
              "      <td>0.153240</td>\n",
              "      <td>...</td>\n",
              "      <td>0.386023</td>\n",
              "      <td>0.368375</td>\n",
              "      <td>0.356778</td>\n",
              "      <td>0.370647</td>\n",
              "      <td>0.342864</td>\n",
              "      <td>0.333848</td>\n",
              "      <td>0.356371</td>\n",
              "      <td>0.347214</td>\n",
              "      <td>0.332845</td>\n",
              "      <td>0</td>\n",
              "    </tr>\n",
              "    <tr>\n",
              "      <th>3</th>\n",
              "      <td>0.286275</td>\n",
              "      <td>0.301961</td>\n",
              "      <td>0.305882</td>\n",
              "      <td>0.286220</td>\n",
              "      <td>0.301906</td>\n",
              "      <td>0.305827</td>\n",
              "      <td>0.281501</td>\n",
              "      <td>0.297187</td>\n",
              "      <td>0.301109</td>\n",
              "      <td>0.278426</td>\n",
              "      <td>...</td>\n",
              "      <td>0.870170</td>\n",
              "      <td>0.837198</td>\n",
              "      <td>0.859041</td>\n",
              "      <td>0.854953</td>\n",
              "      <td>0.819037</td>\n",
              "      <td>0.837135</td>\n",
              "      <td>0.837941</td>\n",
              "      <td>0.792424</td>\n",
              "      <td>0.803063</td>\n",
              "      <td>0</td>\n",
              "    </tr>\n",
              "    <tr>\n",
              "      <th>4</th>\n",
              "      <td>0.114136</td>\n",
              "      <td>0.094528</td>\n",
              "      <td>0.082763</td>\n",
              "      <td>0.124316</td>\n",
              "      <td>0.104708</td>\n",
              "      <td>0.092944</td>\n",
              "      <td>0.137856</td>\n",
              "      <td>0.118248</td>\n",
              "      <td>0.106484</td>\n",
              "      <td>0.156410</td>\n",
              "      <td>...</td>\n",
              "      <td>0.681843</td>\n",
              "      <td>0.646549</td>\n",
              "      <td>0.658314</td>\n",
              "      <td>0.587697</td>\n",
              "      <td>0.552403</td>\n",
              "      <td>0.564167</td>\n",
              "      <td>0.468458</td>\n",
              "      <td>0.433163</td>\n",
              "      <td>0.444928</td>\n",
              "      <td>0</td>\n",
              "    </tr>\n",
              "    <tr>\n",
              "      <th>...</th>\n",
              "      <td>...</td>\n",
              "      <td>...</td>\n",
              "      <td>...</td>\n",
              "      <td>...</td>\n",
              "      <td>...</td>\n",
              "      <td>...</td>\n",
              "      <td>...</td>\n",
              "      <td>...</td>\n",
              "      <td>...</td>\n",
              "      <td>...</td>\n",
              "      <td>...</td>\n",
              "      <td>...</td>\n",
              "      <td>...</td>\n",
              "      <td>...</td>\n",
              "      <td>...</td>\n",
              "      <td>...</td>\n",
              "      <td>...</td>\n",
              "      <td>...</td>\n",
              "      <td>...</td>\n",
              "      <td>...</td>\n",
              "      <td>...</td>\n",
              "    </tr>\n",
              "    <tr>\n",
              "      <th>157</th>\n",
              "      <td>0.309764</td>\n",
              "      <td>0.352798</td>\n",
              "      <td>0.360641</td>\n",
              "      <td>0.102719</td>\n",
              "      <td>0.142712</td>\n",
              "      <td>0.150583</td>\n",
              "      <td>0.063985</td>\n",
              "      <td>0.097519</td>\n",
              "      <td>0.108052</td>\n",
              "      <td>0.073972</td>\n",
              "      <td>...</td>\n",
              "      <td>0.312605</td>\n",
              "      <td>0.183134</td>\n",
              "      <td>0.051387</td>\n",
              "      <td>0.296112</td>\n",
              "      <td>0.174136</td>\n",
              "      <td>0.061359</td>\n",
              "      <td>0.305794</td>\n",
              "      <td>0.184225</td>\n",
              "      <td>0.071002</td>\n",
              "      <td>1</td>\n",
              "    </tr>\n",
              "    <tr>\n",
              "      <th>158</th>\n",
              "      <td>0.612096</td>\n",
              "      <td>0.506214</td>\n",
              "      <td>0.470920</td>\n",
              "      <td>0.568027</td>\n",
              "      <td>0.467242</td>\n",
              "      <td>0.437046</td>\n",
              "      <td>0.544847</td>\n",
              "      <td>0.447135</td>\n",
              "      <td>0.420694</td>\n",
              "      <td>0.409511</td>\n",
              "      <td>...</td>\n",
              "      <td>0.395262</td>\n",
              "      <td>0.348204</td>\n",
              "      <td>0.348204</td>\n",
              "      <td>0.372594</td>\n",
              "      <td>0.325535</td>\n",
              "      <td>0.325535</td>\n",
              "      <td>0.386530</td>\n",
              "      <td>0.339471</td>\n",
              "      <td>0.339471</td>\n",
              "      <td>1</td>\n",
              "    </tr>\n",
              "    <tr>\n",
              "      <th>159</th>\n",
              "      <td>0.562609</td>\n",
              "      <td>0.466070</td>\n",
              "      <td>0.253184</td>\n",
              "      <td>0.531096</td>\n",
              "      <td>0.417403</td>\n",
              "      <td>0.202458</td>\n",
              "      <td>0.519534</td>\n",
              "      <td>0.393667</td>\n",
              "      <td>0.170831</td>\n",
              "      <td>0.488835</td>\n",
              "      <td>...</td>\n",
              "      <td>0.389573</td>\n",
              "      <td>0.366044</td>\n",
              "      <td>0.318985</td>\n",
              "      <td>0.392066</td>\n",
              "      <td>0.368537</td>\n",
              "      <td>0.321478</td>\n",
              "      <td>0.393571</td>\n",
              "      <td>0.370042</td>\n",
              "      <td>0.322983</td>\n",
              "      <td>1</td>\n",
              "    </tr>\n",
              "    <tr>\n",
              "      <th>160</th>\n",
              "      <td>0.530957</td>\n",
              "      <td>0.512927</td>\n",
              "      <td>0.380928</td>\n",
              "      <td>0.472999</td>\n",
              "      <td>0.465529</td>\n",
              "      <td>0.334881</td>\n",
              "      <td>0.398747</td>\n",
              "      <td>0.399377</td>\n",
              "      <td>0.304621</td>\n",
              "      <td>0.251644</td>\n",
              "      <td>...</td>\n",
              "      <td>0.486232</td>\n",
              "      <td>0.565644</td>\n",
              "      <td>0.237841</td>\n",
              "      <td>0.337569</td>\n",
              "      <td>0.418725</td>\n",
              "      <td>0.168118</td>\n",
              "      <td>0.362746</td>\n",
              "      <td>0.453919</td>\n",
              "      <td>0.210229</td>\n",
              "      <td>1</td>\n",
              "    </tr>\n",
              "    <tr>\n",
              "      <th>161</th>\n",
              "      <td>0.458653</td>\n",
              "      <td>0.507357</td>\n",
              "      <td>0.442993</td>\n",
              "      <td>0.767779</td>\n",
              "      <td>0.813413</td>\n",
              "      <td>0.764808</td>\n",
              "      <td>0.833987</td>\n",
              "      <td>0.875909</td>\n",
              "      <td>0.851280</td>\n",
              "      <td>0.602511</td>\n",
              "      <td>...</td>\n",
              "      <td>0.406362</td>\n",
              "      <td>0.425970</td>\n",
              "      <td>0.269107</td>\n",
              "      <td>0.360144</td>\n",
              "      <td>0.379780</td>\n",
              "      <td>0.221999</td>\n",
              "      <td>0.454469</td>\n",
              "      <td>0.476446</td>\n",
              "      <td>0.308656</td>\n",
              "      <td>1</td>\n",
              "    </tr>\n",
              "  </tbody>\n",
              "</table>\n",
              "<p>162 rows × 67501 columns</p>\n",
              "</div>\n",
              "    <div class=\"colab-df-buttons\">\n",
              "\n",
              "  <div class=\"colab-df-container\">\n",
              "    <button class=\"colab-df-convert\" onclick=\"convertToInteractive('df-9f512e3c-63ad-4bd8-ae7f-f4d14072b8c1')\"\n",
              "            title=\"Convert this dataframe to an interactive table.\"\n",
              "            style=\"display:none;\">\n",
              "\n",
              "  <svg xmlns=\"http://www.w3.org/2000/svg\" height=\"24px\" viewBox=\"0 -960 960 960\">\n",
              "    <path d=\"M120-120v-720h720v720H120Zm60-500h600v-160H180v160Zm220 220h160v-160H400v160Zm0 220h160v-160H400v160ZM180-400h160v-160H180v160Zm440 0h160v-160H620v160ZM180-180h160v-160H180v160Zm440 0h160v-160H620v160Z\"/>\n",
              "  </svg>\n",
              "    </button>\n",
              "\n",
              "  <style>\n",
              "    .colab-df-container {\n",
              "      display:flex;\n",
              "      gap: 12px;\n",
              "    }\n",
              "\n",
              "    .colab-df-convert {\n",
              "      background-color: #E8F0FE;\n",
              "      border: none;\n",
              "      border-radius: 50%;\n",
              "      cursor: pointer;\n",
              "      display: none;\n",
              "      fill: #1967D2;\n",
              "      height: 32px;\n",
              "      padding: 0 0 0 0;\n",
              "      width: 32px;\n",
              "    }\n",
              "\n",
              "    .colab-df-convert:hover {\n",
              "      background-color: #E2EBFA;\n",
              "      box-shadow: 0px 1px 2px rgba(60, 64, 67, 0.3), 0px 1px 3px 1px rgba(60, 64, 67, 0.15);\n",
              "      fill: #174EA6;\n",
              "    }\n",
              "\n",
              "    .colab-df-buttons div {\n",
              "      margin-bottom: 4px;\n",
              "    }\n",
              "\n",
              "    [theme=dark] .colab-df-convert {\n",
              "      background-color: #3B4455;\n",
              "      fill: #D2E3FC;\n",
              "    }\n",
              "\n",
              "    [theme=dark] .colab-df-convert:hover {\n",
              "      background-color: #434B5C;\n",
              "      box-shadow: 0px 1px 3px 1px rgba(0, 0, 0, 0.15);\n",
              "      filter: drop-shadow(0px 1px 2px rgba(0, 0, 0, 0.3));\n",
              "      fill: #FFFFFF;\n",
              "    }\n",
              "  </style>\n",
              "\n",
              "    <script>\n",
              "      const buttonEl =\n",
              "        document.querySelector('#df-9f512e3c-63ad-4bd8-ae7f-f4d14072b8c1 button.colab-df-convert');\n",
              "      buttonEl.style.display =\n",
              "        google.colab.kernel.accessAllowed ? 'block' : 'none';\n",
              "\n",
              "      async function convertToInteractive(key) {\n",
              "        const element = document.querySelector('#df-9f512e3c-63ad-4bd8-ae7f-f4d14072b8c1');\n",
              "        const dataTable =\n",
              "          await google.colab.kernel.invokeFunction('convertToInteractive',\n",
              "                                                    [key], {});\n",
              "        if (!dataTable) return;\n",
              "\n",
              "        const docLinkHtml = 'Like what you see? Visit the ' +\n",
              "          '<a target=\"_blank\" href=https://colab.research.google.com/notebooks/data_table.ipynb>data table notebook</a>'\n",
              "          + ' to learn more about interactive tables.';\n",
              "        element.innerHTML = '';\n",
              "        dataTable['output_type'] = 'display_data';\n",
              "        await google.colab.output.renderOutput(dataTable, element);\n",
              "        const docLink = document.createElement('div');\n",
              "        docLink.innerHTML = docLinkHtml;\n",
              "        element.appendChild(docLink);\n",
              "      }\n",
              "    </script>\n",
              "  </div>\n",
              "\n",
              "\n",
              "<div id=\"df-85e1754f-520f-488d-802b-638c1c54bdf9\">\n",
              "  <button class=\"colab-df-quickchart\" onclick=\"quickchart('df-85e1754f-520f-488d-802b-638c1c54bdf9')\"\n",
              "            title=\"Suggest charts\"\n",
              "            style=\"display:none;\">\n",
              "\n",
              "<svg xmlns=\"http://www.w3.org/2000/svg\" height=\"24px\"viewBox=\"0 0 24 24\"\n",
              "     width=\"24px\">\n",
              "    <g>\n",
              "        <path d=\"M19 3H5c-1.1 0-2 .9-2 2v14c0 1.1.9 2 2 2h14c1.1 0 2-.9 2-2V5c0-1.1-.9-2-2-2zM9 17H7v-7h2v7zm4 0h-2V7h2v10zm4 0h-2v-4h2v4z\"/>\n",
              "    </g>\n",
              "</svg>\n",
              "  </button>\n",
              "\n",
              "<style>\n",
              "  .colab-df-quickchart {\n",
              "      --bg-color: #E8F0FE;\n",
              "      --fill-color: #1967D2;\n",
              "      --hover-bg-color: #E2EBFA;\n",
              "      --hover-fill-color: #174EA6;\n",
              "      --disabled-fill-color: #AAA;\n",
              "      --disabled-bg-color: #DDD;\n",
              "  }\n",
              "\n",
              "  [theme=dark] .colab-df-quickchart {\n",
              "      --bg-color: #3B4455;\n",
              "      --fill-color: #D2E3FC;\n",
              "      --hover-bg-color: #434B5C;\n",
              "      --hover-fill-color: #FFFFFF;\n",
              "      --disabled-bg-color: #3B4455;\n",
              "      --disabled-fill-color: #666;\n",
              "  }\n",
              "\n",
              "  .colab-df-quickchart {\n",
              "    background-color: var(--bg-color);\n",
              "    border: none;\n",
              "    border-radius: 50%;\n",
              "    cursor: pointer;\n",
              "    display: none;\n",
              "    fill: var(--fill-color);\n",
              "    height: 32px;\n",
              "    padding: 0;\n",
              "    width: 32px;\n",
              "  }\n",
              "\n",
              "  .colab-df-quickchart:hover {\n",
              "    background-color: var(--hover-bg-color);\n",
              "    box-shadow: 0 1px 2px rgba(60, 64, 67, 0.3), 0 1px 3px 1px rgba(60, 64, 67, 0.15);\n",
              "    fill: var(--button-hover-fill-color);\n",
              "  }\n",
              "\n",
              "  .colab-df-quickchart-complete:disabled,\n",
              "  .colab-df-quickchart-complete:disabled:hover {\n",
              "    background-color: var(--disabled-bg-color);\n",
              "    fill: var(--disabled-fill-color);\n",
              "    box-shadow: none;\n",
              "  }\n",
              "\n",
              "  .colab-df-spinner {\n",
              "    border: 2px solid var(--fill-color);\n",
              "    border-color: transparent;\n",
              "    border-bottom-color: var(--fill-color);\n",
              "    animation:\n",
              "      spin 1s steps(1) infinite;\n",
              "  }\n",
              "\n",
              "  @keyframes spin {\n",
              "    0% {\n",
              "      border-color: transparent;\n",
              "      border-bottom-color: var(--fill-color);\n",
              "      border-left-color: var(--fill-color);\n",
              "    }\n",
              "    20% {\n",
              "      border-color: transparent;\n",
              "      border-left-color: var(--fill-color);\n",
              "      border-top-color: var(--fill-color);\n",
              "    }\n",
              "    30% {\n",
              "      border-color: transparent;\n",
              "      border-left-color: var(--fill-color);\n",
              "      border-top-color: var(--fill-color);\n",
              "      border-right-color: var(--fill-color);\n",
              "    }\n",
              "    40% {\n",
              "      border-color: transparent;\n",
              "      border-right-color: var(--fill-color);\n",
              "      border-top-color: var(--fill-color);\n",
              "    }\n",
              "    60% {\n",
              "      border-color: transparent;\n",
              "      border-right-color: var(--fill-color);\n",
              "    }\n",
              "    80% {\n",
              "      border-color: transparent;\n",
              "      border-right-color: var(--fill-color);\n",
              "      border-bottom-color: var(--fill-color);\n",
              "    }\n",
              "    90% {\n",
              "      border-color: transparent;\n",
              "      border-bottom-color: var(--fill-color);\n",
              "    }\n",
              "  }\n",
              "</style>\n",
              "\n",
              "  <script>\n",
              "    async function quickchart(key) {\n",
              "      const quickchartButtonEl =\n",
              "        document.querySelector('#' + key + ' button');\n",
              "      quickchartButtonEl.disabled = true;  // To prevent multiple clicks.\n",
              "      quickchartButtonEl.classList.add('colab-df-spinner');\n",
              "      try {\n",
              "        const charts = await google.colab.kernel.invokeFunction(\n",
              "            'suggestCharts', [key], {});\n",
              "      } catch (error) {\n",
              "        console.error('Error during call to suggestCharts:', error);\n",
              "      }\n",
              "      quickchartButtonEl.classList.remove('colab-df-spinner');\n",
              "      quickchartButtonEl.classList.add('colab-df-quickchart-complete');\n",
              "    }\n",
              "    (() => {\n",
              "      let quickchartButtonEl =\n",
              "        document.querySelector('#df-85e1754f-520f-488d-802b-638c1c54bdf9 button');\n",
              "      quickchartButtonEl.style.display =\n",
              "        google.colab.kernel.accessAllowed ? 'block' : 'none';\n",
              "    })();\n",
              "  </script>\n",
              "</div>\n",
              "\n",
              "  <div id=\"id_01a49b28-0cd1-45b8-a2b2-d4f64b50ab0c\">\n",
              "    <style>\n",
              "      .colab-df-generate {\n",
              "        background-color: #E8F0FE;\n",
              "        border: none;\n",
              "        border-radius: 50%;\n",
              "        cursor: pointer;\n",
              "        display: none;\n",
              "        fill: #1967D2;\n",
              "        height: 32px;\n",
              "        padding: 0 0 0 0;\n",
              "        width: 32px;\n",
              "      }\n",
              "\n",
              "      .colab-df-generate:hover {\n",
              "        background-color: #E2EBFA;\n",
              "        box-shadow: 0px 1px 2px rgba(60, 64, 67, 0.3), 0px 1px 3px 1px rgba(60, 64, 67, 0.15);\n",
              "        fill: #174EA6;\n",
              "      }\n",
              "\n",
              "      [theme=dark] .colab-df-generate {\n",
              "        background-color: #3B4455;\n",
              "        fill: #D2E3FC;\n",
              "      }\n",
              "\n",
              "      [theme=dark] .colab-df-generate:hover {\n",
              "        background-color: #434B5C;\n",
              "        box-shadow: 0px 1px 3px 1px rgba(0, 0, 0, 0.15);\n",
              "        filter: drop-shadow(0px 1px 2px rgba(0, 0, 0, 0.3));\n",
              "        fill: #FFFFFF;\n",
              "      }\n",
              "    </style>\n",
              "    <button class=\"colab-df-generate\" onclick=\"generateWithVariable('df')\"\n",
              "            title=\"Generate code using this dataframe.\"\n",
              "            style=\"display:none;\">\n",
              "\n",
              "  <svg xmlns=\"http://www.w3.org/2000/svg\" height=\"24px\"viewBox=\"0 0 24 24\"\n",
              "       width=\"24px\">\n",
              "    <path d=\"M7,19H8.4L18.45,9,17,7.55,7,17.6ZM5,21V16.75L18.45,3.32a2,2,0,0,1,2.83,0l1.4,1.43a1.91,1.91,0,0,1,.58,1.4,1.91,1.91,0,0,1-.58,1.4L9.25,21ZM18.45,9,17,7.55Zm-12,3A5.31,5.31,0,0,0,4.9,8.1,5.31,5.31,0,0,0,1,6.5,5.31,5.31,0,0,0,4.9,4.9,5.31,5.31,0,0,0,6.5,1,5.31,5.31,0,0,0,8.1,4.9,5.31,5.31,0,0,0,12,6.5,5.46,5.46,0,0,0,6.5,12Z\"/>\n",
              "  </svg>\n",
              "    </button>\n",
              "    <script>\n",
              "      (() => {\n",
              "      const buttonEl =\n",
              "        document.querySelector('#id_01a49b28-0cd1-45b8-a2b2-d4f64b50ab0c button.colab-df-generate');\n",
              "      buttonEl.style.display =\n",
              "        google.colab.kernel.accessAllowed ? 'block' : 'none';\n",
              "\n",
              "      buttonEl.onclick = () => {\n",
              "        google.colab.notebook.generateWithVariable('df');\n",
              "      }\n",
              "      })();\n",
              "    </script>\n",
              "  </div>\n",
              "\n",
              "    </div>\n",
              "  </div>\n"
            ],
            "application/vnd.google.colaboratory.intrinsic+json": {
              "type": "dataframe",
              "variable_name": "df"
            }
          },
          "metadata": {},
          "execution_count": 20
        }
      ]
    },
    {
      "cell_type": "code",
      "source": [
        "path1='/content/drive/MyDrive/Deep_Learning/cat_dog_dataset/cat/cat.10.jpg'\n",
        "img=imread(path1)\n",
        "# plt.imshow(img)\n",
        "# plt.show()\n",
        "img_resize=resize(img,(150,150,3)).flatten().reshape(1,-1)\n",
        "model.predict(img_resize)"
      ],
      "metadata": {
        "colab": {
          "base_uri": "https://localhost:8080/"
        },
        "id": "ridAibxaJ5ul",
        "outputId": "bb628b40-11d6-407b-b6e6-bf607faa9db0"
      },
      "execution_count": 23,
      "outputs": [
        {
          "output_type": "execute_result",
          "data": {
            "text/plain": [
              "array([0])"
            ]
          },
          "metadata": {},
          "execution_count": 23
        }
      ]
    },
    {
      "cell_type": "code",
      "source": [
        "path2='/content/drive/MyDrive/Deep_Learning/cat_dog_dataset/dog/dog.11.jpg'\n",
        "img=imread(path2)\n",
        "img_resize=resize(img,(150,150,3)).flatten().reshape(1,-1)\n",
        "model.predict(img_resize)"
      ],
      "metadata": {
        "colab": {
          "base_uri": "https://localhost:8080/"
        },
        "id": "g-Qv8conLxbJ",
        "outputId": "9f1628e1-49d2-4bd5-9015-447df3f60bd6"
      },
      "execution_count": 24,
      "outputs": [
        {
          "output_type": "execute_result",
          "data": {
            "text/plain": [
              "array([1])"
            ]
          },
          "metadata": {},
          "execution_count": 24
        }
      ]
    },
    {
      "cell_type": "code",
      "source": [],
      "metadata": {
        "id": "qCAuONk0MRXT"
      },
      "execution_count": null,
      "outputs": []
    }
  ]
}