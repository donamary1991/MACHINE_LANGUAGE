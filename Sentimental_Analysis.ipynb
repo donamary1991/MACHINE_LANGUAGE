{
  "nbformat": 4,
  "nbformat_minor": 0,
  "metadata": {
    "colab": {
      "provenance": []
    },
    "kernelspec": {
      "name": "python3",
      "display_name": "Python 3"
    },
    "language_info": {
      "name": "python"
    }
  },
  "cells": [
    {
      "cell_type": "code",
      "execution_count": null,
      "metadata": {
        "colab": {
          "base_uri": "https://localhost:8080/"
        },
        "id": "jOFVaMqj2w6n",
        "outputId": "45ec9aa2-ccbf-43cd-a03e-a10397012078"
      },
      "outputs": [
        {
          "output_type": "stream",
          "name": "stderr",
          "text": [
            "No model was supplied, defaulted to distilbert/distilbert-base-uncased-finetuned-sst-2-english and revision 714eb0f (https://huggingface.co/distilbert/distilbert-base-uncased-finetuned-sst-2-english).\n",
            "Using a pipeline without specifying a model name and revision in production is not recommended.\n"
          ]
        },
        {
          "output_type": "stream",
          "name": "stdout",
          "text": [
            "Enter a piece of text to analyze sentiment: i am depressed\n",
            "Negative sentiment with a confidence of 99.98%\n"
          ]
        }
      ],
      "source": [
        "from transformers import pipeline\n",
        "sentiment_analyzer = pipeline(\"sentiment-analysis\")\n",
        "\n",
        "\n",
        "def analyze_sentiment(text):\n",
        "    sentiment = sentiment_analyzer(text)\n",
        "\n",
        "    label = sentiment[0]['label']\n",
        "    score = sentiment[0]['score']\n",
        "\n",
        "    if label == \"POSITIVE\":\n",
        "        print(f\"Positive sentiment with a confidence of {score * 100:.2f}%\")\n",
        "    elif label == \"NEGATIVE\":\n",
        "        print(f\"Negative sentiment with a confidence of {score * 100:.2f}%\")\n",
        "    else:\n",
        "        print(f\"Neutral sentiment with a confidence of {score * 100:.2f}%\")\n",
        "\n",
        "if __name__ == \"__main__\":\n",
        "    user_text = input(\"Enter a piece of text to analyze sentiment: \")\n",
        "\n",
        "    # Analyze and display the sentiment\n",
        "    analyze_sentiment(user_text)"
      ]
    }
  ]
}